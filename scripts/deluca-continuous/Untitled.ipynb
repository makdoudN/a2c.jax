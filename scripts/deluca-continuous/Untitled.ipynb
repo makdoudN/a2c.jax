{
 "cells": [
  {
   "cell_type": "code",
   "execution_count": 6,
   "id": "2a7b017e-208e-48d8-9807-11552f99f94a",
   "metadata": {},
   "outputs": [],
   "source": [
    "import jax\n",
    "import tax\n",
    "import tqdm\n",
    "import haiku as hk\n",
    "import numpy as np\n",
    "import collections \n",
    "import jax.numpy as jnp\n",
    "import matplotlib as mpl\n",
    "import matplotlib.pyplot as plt\n",
    "import mbrl\n",
    "\n",
    "from jax import jit\n",
    "from jax import partial\n",
    "from mbrl.envs.oracle._pendulum import step_fn, reward_fn, reset_fn, env_params\n",
    "\n",
    "Environment = collections.namedtuple('Environment', ['step', 'reset'])\n",
    "rng = jax.random.PRNGKey(42)\n"
   ]
  },
  {
   "cell_type": "code",
   "execution_count": 11,
   "id": "b60b25c5-6b93-469c-b86c-48b4e1d965c6",
   "metadata": {},
   "outputs": [],
   "source": [
    "env = Environment(\n",
    "    step=jit(partial(step_fn, env_params=env_params)),\n",
    "    reset=jit(partial(reset_fn, env_params=env_params))\n",
    ")"
   ]
  },
  {
   "cell_type": "code",
   "execution_count": 20,
   "id": "3917e81b-41c7-473a-9530-74f5c57cb6b3",
   "metadata": {},
   "outputs": [],
   "source": [
    "state_size  = env_params['state_size']\n",
    "action_min  = env_params['action_min']\n",
    "action_max  = env_params['action_max']\n",
    "action_size = env_params['action_size']\n"
   ]
  },
  {
   "cell_type": "code",
   "execution_count": 25,
   "id": "acc7ba0f-6ad9-4e56-9be0-483c3aeb6da6",
   "metadata": {},
   "outputs": [],
   "source": [
    "rng, rng_reset, rng_action = jax.random.split(rng, 3)\n",
    "\n",
    "state, observation = env.reset(rng_reset)\n",
    "action = jax.random.uniform(rng_action, shape=(action_size,), minval=action_min, maxval=action_max)\n",
    "state_next, observation_next, reward, done, info = env.step(state, action)\n"
   ]
  },
  {
   "cell_type": "markdown",
   "id": "6b75b6a6-f8f1-4363-89e4-6023c4c01ac3",
   "metadata": {},
   "source": [
    "# `Interaction` Function"
   ]
  },
  {
   "cell_type": "code",
   "execution_count": null,
   "id": "9f04435e-6c66-4efa-a38b-7a214900b766",
   "metadata": {},
   "outputs": [],
   "source": [
    "# scan based function with reset taking into account"
   ]
  }
 ],
 "metadata": {
  "kernelspec": {
   "display_name": "Python 3",
   "language": "python",
   "name": "python3"
  },
  "language_info": {
   "codemirror_mode": {
    "name": "ipython",
    "version": 3
   },
   "file_extension": ".py",
   "mimetype": "text/x-python",
   "name": "python",
   "nbconvert_exporter": "python",
   "pygments_lexer": "ipython3",
   "version": "3.8.10"
  }
 },
 "nbformat": 4,
 "nbformat_minor": 5
}
